{
 "cells": [
  {
   "cell_type": "code",
   "execution_count": 3,
   "id": "5588f09b",
   "metadata": {},
   "outputs": [],
   "source": [
    "# !pip install cryptography"
   ]
  },
  {
   "cell_type": "code",
   "execution_count": 4,
   "id": "9be59948",
   "metadata": {},
   "outputs": [],
   "source": [
    "from cryptography.fernet import Fernet"
   ]
  },
  {
   "cell_type": "code",
   "execution_count": 8,
   "id": "8bc86e46",
   "metadata": {},
   "outputs": [
    {
     "name": "stdout",
     "output_type": "stream",
     "text": [
      "key---> b'xTwPBjIB9m3Dbix5EKNY7j9tqc1O3VDtIznpmbKaKwI='\n"
     ]
    }
   ],
   "source": [
    "key=Fernet.generate_key()\n",
    "print(\"key--->\",key)"
   ]
  },
  {
   "cell_type": "code",
   "execution_count": 11,
   "id": "a6834eda",
   "metadata": {},
   "outputs": [
    {
     "name": "stdout",
     "output_type": "stream",
     "text": [
      "fernet===> <cryptography.fernet.Fernet object at 0x000001AA63F39430>\n"
     ]
    }
   ],
   "source": [
    "fernet=Fernet(key)\n",
    "print(\"fernet===>\",fernet)"
   ]
  },
  {
   "cell_type": "code",
   "execution_count": 12,
   "id": "3c868357",
   "metadata": {},
   "outputs": [],
   "source": [
    "with open(\"keys.key\",'wb') as filekey:\n",
    "    filekey.write(key)"
   ]
  },
  {
   "cell_type": "code",
   "execution_count": 13,
   "id": "5073bbf4",
   "metadata": {},
   "outputs": [],
   "source": [
    "with open(\"keys.key\",\"rb\") as filereadkey:\n",
    "    readedkey=filereadkey.read()"
   ]
  },
  {
   "cell_type": "code",
   "execution_count": 20,
   "id": "f6c98e9c",
   "metadata": {},
   "outputs": [],
   "source": [
    "with open(\"a.wav\",\"rb\") as file:\n",
    "    wav_data=file.read()\n",
    "#     print(\"value\",wav_data)"
   ]
  },
  {
   "cell_type": "code",
   "execution_count": 31,
   "id": "2b2b75c4",
   "metadata": {},
   "outputs": [],
   "source": [
    "encrypted=fernet.encrypt(wav_data)"
   ]
  },
  {
   "cell_type": "code",
   "execution_count": 32,
   "id": "c9a14111",
   "metadata": {},
   "outputs": [],
   "source": [
    "with open(\"encrypted_a.wav\",\"wb\") as efiles:\n",
    "    efiles.write(encrypted)"
   ]
  },
  {
   "cell_type": "code",
   "execution_count": 35,
   "id": "b056839a",
   "metadata": {},
   "outputs": [],
   "source": [
    "fernet=Fernet(key)\n",
    "\n",
    "with open(\"encrypted_a.wav\",\"rb\") as efiles:\n",
    "    a=efiles.read()\n",
    "    decrypt=fernet.decrypt(a)"
   ]
  },
  {
   "cell_type": "code",
   "execution_count": null,
   "id": "9c8f96a5",
   "metadata": {},
   "outputs": [],
   "source": [
    "# decrypt=fernet.decrypt(encrypted)"
   ]
  },
  {
   "cell_type": "code",
   "execution_count": 36,
   "id": "4129144f",
   "metadata": {},
   "outputs": [],
   "source": [
    "with open(\"decrypted_a.wav\",\"wb\") as efiles:\n",
    "    efiles.write(a)"
   ]
  },
  {
   "cell_type": "code",
   "execution_count": 37,
   "id": "2977f58a",
   "metadata": {},
   "outputs": [],
   "source": [
    "from cryptography.fernet import Fernet\n",
    "\n",
    "# Generating a key for encryption and decryption\n",
    "key = Fernet.generate_key()\n",
    "fernet = Fernet(key)\n",
    "\n",
    "# Encrypting a file\n",
    "with open(\"a.wav\", \"rb\") as file:\n",
    "    data = file.read()\n",
    "    encrypted_data = fernet.encrypt(data)\n",
    "\n",
    "    with open(\"encrypted_a_1.wav\", \"wb\") as encrypted_file:\n",
    "        encrypted_file.write(encrypted_data)\n",
    "\n",
    "# Decrypting the encrypted file\n",
    "with open(\"encrypted_a_1.wav\", \"rb\") as efiles:\n",
    "    encrypted_content = efiles.read()\n",
    "    decrypted_content = fernet.decrypt(encrypted_content)\n",
    "\n",
    "    with open(\"decrypted_a_1.wav\", \"wb\") as decrypted_file:\n",
    "        decrypted_file.write(decrypted_content)\n"
   ]
  },
  {
   "cell_type": "code",
   "execution_count": null,
   "id": "51a724be",
   "metadata": {},
   "outputs": [],
   "source": []
  }
 ],
 "metadata": {
  "kernelspec": {
   "display_name": "Python 3 (ipykernel)",
   "language": "python",
   "name": "python3"
  },
  "language_info": {
   "codemirror_mode": {
    "name": "ipython",
    "version": 3
   },
   "file_extension": ".py",
   "mimetype": "text/x-python",
   "name": "python",
   "nbconvert_exporter": "python",
   "pygments_lexer": "ipython3",
   "version": "3.9.13"
  }
 },
 "nbformat": 4,
 "nbformat_minor": 5
}
